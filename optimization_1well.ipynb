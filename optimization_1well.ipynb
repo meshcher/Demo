{
 "cells": [
  {
   "cell_type": "code",
   "execution_count": 16,
   "metadata": {},
   "outputs": [],
   "source": [
    "import numpy as np\n",
    "import random\n",
    "from scipy.optimize import minimize\n",
    "import math\n",
    "import matplotlib.pyplot as plt"
   ]
  },
  {
   "cell_type": "code",
   "execution_count": 17,
   "metadata": {},
   "outputs": [],
   "source": [
    "#well connector price per m2\n",
    "#pipe price per m2\n",
    "p_well=3\n",
    "p_pipe=1"
   ]
  },
  {
   "cell_type": "code",
   "execution_count": 18,
   "metadata": {},
   "outputs": [],
   "source": [
    "#so far random number generator\n",
    "#position of the troll\n",
    "#position of the well\n",
    "\n",
    "random.seed(10)\n",
    "pos_well=(random.random(),random.random())\n",
    "pos_troll=(random.random()*10,random.random()*10)\n",
    "pos_ds0=random.uniform(min(pos_well[0],pos_troll[0]),max(pos_well[0],pos_troll[0])),random.uniform(min(pos_well[1],pos_troll[1]),max(pos_well[1],pos_troll[1]))"
   ]
  },
  {
   "cell_type": "markdown",
   "metadata": {},
   "source": [
    "Define the cost function"
   ]
  },
  {
   "cell_type": "code",
   "execution_count": 4,
   "metadata": {},
   "outputs": [],
   "source": [
    "def cost_f(pos_ds):\n",
    "    well_cost=math.sqrt((pos_ds[0]-pos_well[0])**2+(pos_ds[1]-pos_well[1])**2)*p_well\n",
    "    pipe_cost=math.sqrt((pos_ds[0]-pos_troll[0])**2+(pos_ds[1]-pos_troll[1])**2)*p_pipe\n",
    "    cost=well_cost+pipe_cost\n",
    "    return cost"
   ]
  },
  {
   "cell_type": "markdown",
   "metadata": {},
   "source": [
    "Apply minimmization algorithm from scipy"
   ]
  },
  {
   "cell_type": "code",
   "execution_count": 5,
   "metadata": {},
   "outputs": [],
   "source": [
    "out=minimize(cost_f, pos_ds0, method=None, jac=None, hess=None, hessp=None, bounds=None, constraints=(), tol=None, callback=None, options=None)"
   ]
  },
  {
   "cell_type": "code",
   "execution_count": 15,
   "metadata": {},
   "outputs": [
    {
     "data": {
      "text/plain": [
       "<function matplotlib.pyplot.show(close=None, block=None)>"
      ]
     },
     "execution_count": 15,
     "metadata": {},
     "output_type": "execute_result"
    },
    {
     "data": {
      "image/png": "[encoded data removed]",
      "text/plain": [
       "<Figure size 432x288 with 1 Axes>"
      ]
     },
     "metadata": {
      "needs_background": "light"
     },
     "output_type": "display_data"
    }
   ],
   "source": [
    "plt.scatter(out.x[0],out.x[1])\n",
    "plt.scatter(pos_troll[0],pos_troll[1])\n",
    "plt.plot([pos_troll[0],out.x[0]],[pos_troll[1],out.x[1]])\n",
    "plt.scatter(pos_well[0],pos_well[1])\n",
    "plt.plot([pos_well[0],out.x[0]],[pos_well[1],out.x[1]])\n",
    "plt.text(pos_troll[0],pos_troll[1],'troll',size='large')\n",
    "#plt.text(pos_well[0],pos_well[1],'well',size='large')\n",
    "plt.text(out.x[0],out.x[1],'DC',size='large')\n",
    "plt.show"
   ]
  }
 ],
 "metadata": {
  "kernelspec": {
   "display_name": "Python 3",
   "language": "python",
   "name": "python3"
  },
  "language_info": {
   "codemirror_mode": {
    "name": "ipython",
    "version": 3
   },
   "file_extension": ".py",
   "mimetype": "text/x-python",
   "name": "python",
   "nbconvert_exporter": "python",
   "pygments_lexer": "ipython3",
   "version": "3.8.5"
  }
 },
 "nbformat": 4,
 "nbformat_minor": 4
}
